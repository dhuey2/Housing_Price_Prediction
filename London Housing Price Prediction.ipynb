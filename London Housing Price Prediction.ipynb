{
 "cells": [
  {
   "cell_type": "code",
   "execution_count": 57,
   "id": "ebce2cbf",
   "metadata": {},
   "outputs": [],
   "source": [
    "import pandas as pd\n",
    "import numpy as np\n",
    "from matplotlib import pyplot as plt\n",
    "%matplotlib inline\n",
    "import matplotlib \n",
    "matplotlib.rcParams[\"figure.figsize\"] = (20,10)\n",
    "pd.options.display.max_rows = 1000"
   ]
  },
  {
   "cell_type": "code",
   "execution_count": 8,
   "id": "25c975cc",
   "metadata": {},
   "outputs": [
    {
     "data": {
      "text/html": [
       "<div>\n",
       "<style scoped>\n",
       "    .dataframe tbody tr th:only-of-type {\n",
       "        vertical-align: middle;\n",
       "    }\n",
       "\n",
       "    .dataframe tbody tr th {\n",
       "        vertical-align: top;\n",
       "    }\n",
       "\n",
       "    .dataframe thead th {\n",
       "        text-align: right;\n",
       "    }\n",
       "</style>\n",
       "<table border=\"1\" class=\"dataframe\">\n",
       "  <thead>\n",
       "    <tr style=\"text-align: right;\">\n",
       "      <th></th>\n",
       "      <th>Unnamed: 0</th>\n",
       "      <th>Property Name</th>\n",
       "      <th>Price</th>\n",
       "      <th>House Type</th>\n",
       "      <th>Area in sq ft</th>\n",
       "      <th>No. of Bedrooms</th>\n",
       "      <th>No. of Bathrooms</th>\n",
       "      <th>No. of Receptions</th>\n",
       "      <th>Location</th>\n",
       "      <th>City/County</th>\n",
       "      <th>Postal Code</th>\n",
       "    </tr>\n",
       "  </thead>\n",
       "  <tbody>\n",
       "    <tr>\n",
       "      <th>0</th>\n",
       "      <td>0</td>\n",
       "      <td>Queens Road</td>\n",
       "      <td>1675000</td>\n",
       "      <td>House</td>\n",
       "      <td>2716</td>\n",
       "      <td>5</td>\n",
       "      <td>5</td>\n",
       "      <td>5</td>\n",
       "      <td>Wimbledon</td>\n",
       "      <td>London</td>\n",
       "      <td>SW19 8NY</td>\n",
       "    </tr>\n",
       "    <tr>\n",
       "      <th>1</th>\n",
       "      <td>1</td>\n",
       "      <td>Seward Street</td>\n",
       "      <td>650000</td>\n",
       "      <td>Flat / Apartment</td>\n",
       "      <td>814</td>\n",
       "      <td>2</td>\n",
       "      <td>2</td>\n",
       "      <td>2</td>\n",
       "      <td>Clerkenwell</td>\n",
       "      <td>London</td>\n",
       "      <td>EC1V 3PA</td>\n",
       "    </tr>\n",
       "    <tr>\n",
       "      <th>2</th>\n",
       "      <td>2</td>\n",
       "      <td>Hotham Road</td>\n",
       "      <td>735000</td>\n",
       "      <td>Flat / Apartment</td>\n",
       "      <td>761</td>\n",
       "      <td>2</td>\n",
       "      <td>2</td>\n",
       "      <td>2</td>\n",
       "      <td>Putney</td>\n",
       "      <td>London</td>\n",
       "      <td>SW15 1QL</td>\n",
       "    </tr>\n",
       "    <tr>\n",
       "      <th>3</th>\n",
       "      <td>3</td>\n",
       "      <td>Festing Road</td>\n",
       "      <td>1765000</td>\n",
       "      <td>House</td>\n",
       "      <td>1986</td>\n",
       "      <td>4</td>\n",
       "      <td>4</td>\n",
       "      <td>4</td>\n",
       "      <td>Putney</td>\n",
       "      <td>London</td>\n",
       "      <td>SW15 1LP</td>\n",
       "    </tr>\n",
       "    <tr>\n",
       "      <th>4</th>\n",
       "      <td>4</td>\n",
       "      <td>Spencer Walk</td>\n",
       "      <td>675000</td>\n",
       "      <td>Flat / Apartment</td>\n",
       "      <td>700</td>\n",
       "      <td>2</td>\n",
       "      <td>2</td>\n",
       "      <td>2</td>\n",
       "      <td>Putney</td>\n",
       "      <td>London</td>\n",
       "      <td>SW15 1PL</td>\n",
       "    </tr>\n",
       "    <tr>\n",
       "      <th>...</th>\n",
       "      <td>...</td>\n",
       "      <td>...</td>\n",
       "      <td>...</td>\n",
       "      <td>...</td>\n",
       "      <td>...</td>\n",
       "      <td>...</td>\n",
       "      <td>...</td>\n",
       "      <td>...</td>\n",
       "      <td>...</td>\n",
       "      <td>...</td>\n",
       "      <td>...</td>\n",
       "    </tr>\n",
       "    <tr>\n",
       "      <th>95</th>\n",
       "      <td>95</td>\n",
       "      <td>Baronsmead Road</td>\n",
       "      <td>4000000</td>\n",
       "      <td>House</td>\n",
       "      <td>3714</td>\n",
       "      <td>5</td>\n",
       "      <td>5</td>\n",
       "      <td>5</td>\n",
       "      <td>Barnes</td>\n",
       "      <td>London</td>\n",
       "      <td>SW13 9RR</td>\n",
       "    </tr>\n",
       "    <tr>\n",
       "      <th>96</th>\n",
       "      <td>96</td>\n",
       "      <td>Sisters Avenue</td>\n",
       "      <td>500000</td>\n",
       "      <td>Flat / Apartment</td>\n",
       "      <td>516</td>\n",
       "      <td>2</td>\n",
       "      <td>2</td>\n",
       "      <td>2</td>\n",
       "      <td>NaN</td>\n",
       "      <td>London</td>\n",
       "      <td>SW11 5SQ</td>\n",
       "    </tr>\n",
       "    <tr>\n",
       "      <th>97</th>\n",
       "      <td>97</td>\n",
       "      <td>Warrington Gardens</td>\n",
       "      <td>1275000</td>\n",
       "      <td>Flat / Apartment</td>\n",
       "      <td>1185</td>\n",
       "      <td>3</td>\n",
       "      <td>3</td>\n",
       "      <td>3</td>\n",
       "      <td>Little Venice</td>\n",
       "      <td>London</td>\n",
       "      <td>W9 2PZ</td>\n",
       "    </tr>\n",
       "    <tr>\n",
       "      <th>98</th>\n",
       "      <td>98</td>\n",
       "      <td>Pembroke Villas</td>\n",
       "      <td>4500000</td>\n",
       "      <td>House</td>\n",
       "      <td>2972</td>\n",
       "      <td>3</td>\n",
       "      <td>3</td>\n",
       "      <td>3</td>\n",
       "      <td>NaN</td>\n",
       "      <td>London</td>\n",
       "      <td>W8 6PG</td>\n",
       "    </tr>\n",
       "    <tr>\n",
       "      <th>99</th>\n",
       "      <td>99</td>\n",
       "      <td>North End Road</td>\n",
       "      <td>1750000</td>\n",
       "      <td>House</td>\n",
       "      <td>2125</td>\n",
       "      <td>4</td>\n",
       "      <td>4</td>\n",
       "      <td>4</td>\n",
       "      <td>Hampstead</td>\n",
       "      <td>London</td>\n",
       "      <td>NW11 7SY</td>\n",
       "    </tr>\n",
       "  </tbody>\n",
       "</table>\n",
       "<p>100 rows × 11 columns</p>\n",
       "</div>"
      ],
      "text/plain": [
       "    Unnamed: 0       Property Name    Price        House Type  Area in sq ft  \\\n",
       "0            0         Queens Road  1675000             House           2716   \n",
       "1            1       Seward Street   650000  Flat / Apartment            814   \n",
       "2            2         Hotham Road   735000  Flat / Apartment            761   \n",
       "3            3        Festing Road  1765000             House           1986   \n",
       "4            4        Spencer Walk   675000  Flat / Apartment            700   \n",
       "..         ...                 ...      ...               ...            ...   \n",
       "95          95     Baronsmead Road  4000000             House           3714   \n",
       "96          96      Sisters Avenue   500000  Flat / Apartment            516   \n",
       "97          97  Warrington Gardens  1275000  Flat / Apartment           1185   \n",
       "98          98     Pembroke Villas  4500000             House           2972   \n",
       "99          99      North End Road  1750000             House           2125   \n",
       "\n",
       "    No. of Bedrooms  No. of Bathrooms  No. of Receptions       Location  \\\n",
       "0                 5                 5                  5      Wimbledon   \n",
       "1                 2                 2                  2    Clerkenwell   \n",
       "2                 2                 2                  2         Putney   \n",
       "3                 4                 4                  4         Putney   \n",
       "4                 2                 2                  2         Putney   \n",
       "..              ...               ...                ...            ...   \n",
       "95                5                 5                  5         Barnes   \n",
       "96                2                 2                  2            NaN   \n",
       "97                3                 3                  3  Little Venice   \n",
       "98                3                 3                  3            NaN   \n",
       "99                4                 4                  4      Hampstead   \n",
       "\n",
       "   City/County Postal Code  \n",
       "0       London    SW19 8NY  \n",
       "1       London    EC1V 3PA  \n",
       "2       London    SW15 1QL  \n",
       "3       London    SW15 1LP  \n",
       "4       London    SW15 1PL  \n",
       "..         ...         ...  \n",
       "95      London    SW13 9RR  \n",
       "96      London    SW11 5SQ  \n",
       "97      London      W9 2PZ  \n",
       "98      London      W8 6PG  \n",
       "99      London    NW11 7SY  \n",
       "\n",
       "[100 rows x 11 columns]"
      ]
     },
     "execution_count": 8,
     "metadata": {},
     "output_type": "execute_result"
    }
   ],
   "source": [
    "df1 = pd.read_csv(r\"C:\\Users\\15103\\Desktop\\Housing Price Project\\London.csv\")\n",
    "df1.head(100)"
   ]
  },
  {
   "cell_type": "code",
   "execution_count": 4,
   "id": "2ae8fe62",
   "metadata": {},
   "outputs": [
    {
     "data": {
      "text/plain": [
       "(3480, 11)"
      ]
     },
     "execution_count": 4,
     "metadata": {},
     "output_type": "execute_result"
    }
   ],
   "source": [
    "df1.shape"
   ]
  },
  {
   "cell_type": "code",
   "execution_count": 5,
   "id": "9c014a94",
   "metadata": {},
   "outputs": [
    {
     "data": {
      "text/plain": [
       "Index(['Unnamed: 0', 'Property Name', 'Price', 'House Type', 'Area in sq ft',\n",
       "       'No. of Bedrooms', 'No. of Bathrooms', 'No. of Receptions', 'Location',\n",
       "       'City/County', 'Postal Code'],\n",
       "      dtype='object')"
      ]
     },
     "execution_count": 5,
     "metadata": {},
     "output_type": "execute_result"
    }
   ],
   "source": [
    "df1.columns"
   ]
  },
  {
   "cell_type": "code",
   "execution_count": 22,
   "id": "ecdac39a",
   "metadata": {},
   "outputs": [
    {
     "data": {
      "text/html": [
       "<div>\n",
       "<style scoped>\n",
       "    .dataframe tbody tr th:only-of-type {\n",
       "        vertical-align: middle;\n",
       "    }\n",
       "\n",
       "    .dataframe tbody tr th {\n",
       "        vertical-align: top;\n",
       "    }\n",
       "\n",
       "    .dataframe thead th {\n",
       "        text-align: right;\n",
       "    }\n",
       "</style>\n",
       "<table border=\"1\" class=\"dataframe\">\n",
       "  <thead>\n",
       "    <tr style=\"text-align: right;\">\n",
       "      <th></th>\n",
       "      <th>Price</th>\n",
       "      <th>Area in sq ft</th>\n",
       "      <th>No. of Bedrooms</th>\n",
       "      <th>No. of Bathrooms</th>\n",
       "      <th>Location</th>\n",
       "      <th>City/County</th>\n",
       "      <th>bath</th>\n",
       "      <th>bed</th>\n",
       "      <th>total_sqft</th>\n",
       "      <th>City</th>\n",
       "    </tr>\n",
       "  </thead>\n",
       "  <tbody>\n",
       "    <tr>\n",
       "      <th>0</th>\n",
       "      <td>1675000</td>\n",
       "      <td>2716</td>\n",
       "      <td>5</td>\n",
       "      <td>5</td>\n",
       "      <td>Wimbledon</td>\n",
       "      <td>London</td>\n",
       "      <td>5</td>\n",
       "      <td>5</td>\n",
       "      <td>2716</td>\n",
       "      <td>London</td>\n",
       "    </tr>\n",
       "    <tr>\n",
       "      <th>1</th>\n",
       "      <td>650000</td>\n",
       "      <td>814</td>\n",
       "      <td>2</td>\n",
       "      <td>2</td>\n",
       "      <td>Clerkenwell</td>\n",
       "      <td>London</td>\n",
       "      <td>2</td>\n",
       "      <td>2</td>\n",
       "      <td>814</td>\n",
       "      <td>London</td>\n",
       "    </tr>\n",
       "    <tr>\n",
       "      <th>2</th>\n",
       "      <td>735000</td>\n",
       "      <td>761</td>\n",
       "      <td>2</td>\n",
       "      <td>2</td>\n",
       "      <td>Putney</td>\n",
       "      <td>London</td>\n",
       "      <td>2</td>\n",
       "      <td>2</td>\n",
       "      <td>761</td>\n",
       "      <td>London</td>\n",
       "    </tr>\n",
       "    <tr>\n",
       "      <th>3</th>\n",
       "      <td>1765000</td>\n",
       "      <td>1986</td>\n",
       "      <td>4</td>\n",
       "      <td>4</td>\n",
       "      <td>Putney</td>\n",
       "      <td>London</td>\n",
       "      <td>4</td>\n",
       "      <td>4</td>\n",
       "      <td>1986</td>\n",
       "      <td>London</td>\n",
       "    </tr>\n",
       "    <tr>\n",
       "      <th>4</th>\n",
       "      <td>675000</td>\n",
       "      <td>700</td>\n",
       "      <td>2</td>\n",
       "      <td>2</td>\n",
       "      <td>Putney</td>\n",
       "      <td>London</td>\n",
       "      <td>2</td>\n",
       "      <td>2</td>\n",
       "      <td>700</td>\n",
       "      <td>London</td>\n",
       "    </tr>\n",
       "  </tbody>\n",
       "</table>\n",
       "</div>"
      ],
      "text/plain": [
       "     Price  Area in sq ft  No. of Bedrooms  No. of Bathrooms     Location  \\\n",
       "0  1675000           2716                5                 5    Wimbledon   \n",
       "1   650000            814                2                 2  Clerkenwell   \n",
       "2   735000            761                2                 2       Putney   \n",
       "3  1765000           1986                4                 4       Putney   \n",
       "4   675000            700                2                 2       Putney   \n",
       "\n",
       "  City/County  bath  bed  total_sqft    City  \n",
       "0      London     5    5        2716  London  \n",
       "1      London     2    2         814  London  \n",
       "2      London     2    2         761  London  \n",
       "3      London     4    4        1986  London  \n",
       "4      London     2    2         700  London  "
      ]
     },
     "execution_count": 22,
     "metadata": {},
     "output_type": "execute_result"
    }
   ],
   "source": [
    "df1 = df1.drop(['Unnamed: 0','Property Name','House Type','No. of Receptions','Postal Code'],axis='columns')\n",
    "df1.head()"
   ]
  },
  {
   "cell_type": "code",
   "execution_count": 12,
   "id": "ecf2ccc6",
   "metadata": {},
   "outputs": [],
   "source": [
    "df1['bath'] = df1['No. of Bathrooms']\n",
    "df1['bed'] = df1['No. of Bedrooms']\n",
    "df1['total_sqft'] = df1['Area in sq ft']\n",
    "df1['City'] = df1['City/County']"
   ]
  },
  {
   "cell_type": "code",
   "execution_count": 13,
   "id": "c209ea09",
   "metadata": {},
   "outputs": [],
   "source": [
    "df2 = df1.copy()"
   ]
  },
  {
   "cell_type": "markdown",
   "id": "318d4a79",
   "metadata": {},
   "source": [
    "## Creating Price Per Sqft Column"
   ]
  },
  {
   "cell_type": "code",
   "execution_count": 32,
   "id": "66867b28",
   "metadata": {},
   "outputs": [],
   "source": [
    "df1['price_per_sqft'] = df1['Price']*1.34/df2['total_sqft']"
   ]
  },
  {
   "cell_type": "code",
   "execution_count": 31,
   "id": "a3699f9e",
   "metadata": {
    "scrolled": false
   },
   "outputs": [
    {
     "data": {
      "text/html": [
       "<div>\n",
       "<style scoped>\n",
       "    .dataframe tbody tr th:only-of-type {\n",
       "        vertical-align: middle;\n",
       "    }\n",
       "\n",
       "    .dataframe tbody tr th {\n",
       "        vertical-align: top;\n",
       "    }\n",
       "\n",
       "    .dataframe thead th {\n",
       "        text-align: right;\n",
       "    }\n",
       "</style>\n",
       "<table border=\"1\" class=\"dataframe\">\n",
       "  <thead>\n",
       "    <tr style=\"text-align: right;\">\n",
       "      <th></th>\n",
       "      <th>Price</th>\n",
       "      <th>total_sqft</th>\n",
       "      <th>bed</th>\n",
       "      <th>bath</th>\n",
       "      <th>Location</th>\n",
       "      <th>City</th>\n",
       "      <th>bath</th>\n",
       "      <th>bed</th>\n",
       "      <th>total_sqft</th>\n",
       "      <th>City</th>\n",
       "      <th>price_per_sqft</th>\n",
       "    </tr>\n",
       "  </thead>\n",
       "  <tbody>\n",
       "    <tr>\n",
       "      <th>0</th>\n",
       "      <td>1675000</td>\n",
       "      <td>2716</td>\n",
       "      <td>5</td>\n",
       "      <td>5</td>\n",
       "      <td>Wimbledon</td>\n",
       "      <td>London</td>\n",
       "      <td>5</td>\n",
       "      <td>5</td>\n",
       "      <td>2716</td>\n",
       "      <td>London</td>\n",
       "      <td>826.399116</td>\n",
       "    </tr>\n",
       "    <tr>\n",
       "      <th>1</th>\n",
       "      <td>650000</td>\n",
       "      <td>814</td>\n",
       "      <td>2</td>\n",
       "      <td>2</td>\n",
       "      <td>Clerkenwell</td>\n",
       "      <td>London</td>\n",
       "      <td>2</td>\n",
       "      <td>2</td>\n",
       "      <td>814</td>\n",
       "      <td>London</td>\n",
       "      <td>1070.024570</td>\n",
       "    </tr>\n",
       "    <tr>\n",
       "      <th>2</th>\n",
       "      <td>735000</td>\n",
       "      <td>761</td>\n",
       "      <td>2</td>\n",
       "      <td>2</td>\n",
       "      <td>Putney</td>\n",
       "      <td>London</td>\n",
       "      <td>2</td>\n",
       "      <td>2</td>\n",
       "      <td>761</td>\n",
       "      <td>London</td>\n",
       "      <td>1294.218134</td>\n",
       "    </tr>\n",
       "    <tr>\n",
       "      <th>3</th>\n",
       "      <td>1765000</td>\n",
       "      <td>1986</td>\n",
       "      <td>4</td>\n",
       "      <td>4</td>\n",
       "      <td>Putney</td>\n",
       "      <td>London</td>\n",
       "      <td>4</td>\n",
       "      <td>4</td>\n",
       "      <td>1986</td>\n",
       "      <td>London</td>\n",
       "      <td>1190.886203</td>\n",
       "    </tr>\n",
       "    <tr>\n",
       "      <th>4</th>\n",
       "      <td>675000</td>\n",
       "      <td>700</td>\n",
       "      <td>2</td>\n",
       "      <td>2</td>\n",
       "      <td>Putney</td>\n",
       "      <td>London</td>\n",
       "      <td>2</td>\n",
       "      <td>2</td>\n",
       "      <td>700</td>\n",
       "      <td>London</td>\n",
       "      <td>1292.142857</td>\n",
       "    </tr>\n",
       "  </tbody>\n",
       "</table>\n",
       "</div>"
      ],
      "text/plain": [
       "     Price  total_sqft  bed  bath     Location    City  bath  bed  total_sqft  \\\n",
       "0  1675000        2716    5     5    Wimbledon  London     5    5        2716   \n",
       "1   650000         814    2     2  Clerkenwell  London     2    2         814   \n",
       "2   735000         761    2     2       Putney  London     2    2         761   \n",
       "3  1765000        1986    4     4       Putney  London     4    4        1986   \n",
       "4   675000         700    2     2       Putney  London     2    2         700   \n",
       "\n",
       "     City  price_per_sqft  \n",
       "0  London      826.399116  \n",
       "1  London     1070.024570  \n",
       "2  London     1294.218134  \n",
       "3  London     1190.886203  \n",
       "4  London     1292.142857  "
      ]
     },
     "execution_count": 31,
     "metadata": {},
     "output_type": "execute_result"
    }
   ],
   "source": [
    "df1.rename(columns={\"No. of Bathrooms\":\"bath\",\n",
    "                   \"No. of Bedrooms\":\"bed\",\n",
    "                   \"Area in sq ft\":\"total_sqft\",\n",
    "                  \"City/County\":\"City\"},inplace=True)\n",
    "df1.head()"
   ]
  },
  {
   "cell_type": "markdown",
   "id": "9d8e391a",
   "metadata": {},
   "source": [
    "## Removing Non-London Locations"
   ]
  },
  {
   "cell_type": "code",
   "execution_count": 34,
   "id": "774dfa4b",
   "metadata": {
    "scrolled": true
   },
   "outputs": [
    {
     "data": {
      "text/plain": [
       "City\n",
       "London                      2972\n",
       "Surrey                       262\n",
       "Middlesex                     78\n",
       "Essex                         62\n",
       "Twickenham                    12\n",
       "Hertfordshire                  9\n",
       "N7 6QX                         7\n",
       "Thurleigh Road                 7\n",
       "Fulham                         5\n",
       "Wornington Road                5\n",
       "Marylebone                     4\n",
       "Watford                        4\n",
       "Chelsea                        3\n",
       "Northwood                      2\n",
       "City Of London                 2\n",
       "Richmond                       2\n",
       "E5 8DE                         2\n",
       "Wandsworth                     2\n",
       "Battersea                      2\n",
       "London1500                     1\n",
       "Wimbledon                      1\n",
       "Middx                          1\n",
       "N1 6FU                         1\n",
       "Oxshott                        1\n",
       "Surrey Quays                   1\n",
       "The Metal Works                1\n",
       "Queens Park                    1\n",
       "Little Venice                  1\n",
       "Romford                        1\n",
       "Spitalfields                   1\n",
       "Thames Ditton                  1\n",
       "Richmond Hill                  1\n",
       "110 Battersea Park Road        1\n",
       "Lillie Square                  1\n",
       "Lambourne End                  1\n",
       "311 Goldhawk Road              1\n",
       "4 Circus Road West             1\n",
       "52 Holloway Road               1\n",
       "6 Deal Street                  1\n",
       "82-88 Fulham High Street       1\n",
       "Blackheath                     1\n",
       "Bushey                         1\n",
       "Chessington                    1\n",
       "Clapton                        1\n",
       "Clerkenwell                    1\n",
       "De Beauvoir                    1\n",
       "Deptford                       1\n",
       "Downs Road                     1\n",
       "Ealing                         1\n",
       "Fitzrovia                      1\n",
       "Fulham High Street             1\n",
       "Greenford                      1\n",
       "Holland Park                   1\n",
       "Hornchurch                     1\n",
       "27 Carlton Drive               1\n",
       "Kent                           1\n",
       "Kensington                     1\n",
       "Name: City, dtype: int64"
      ]
     },
     "execution_count": 34,
     "metadata": {},
     "output_type": "execute_result"
    }
   ],
   "source": [
    "df2.City = df2.City.apply(lambda x: x.strip())\n",
    "City_stats = df2.groupby('City')['City'].agg('count').sort_values(ascending=False)\n",
    "City_stats"
   ]
  },
  {
   "cell_type": "code",
   "execution_count": 47,
   "id": "c2811c05",
   "metadata": {},
   "outputs": [
    {
     "data": {
      "text/html": [
       "<div>\n",
       "<style scoped>\n",
       "    .dataframe tbody tr th:only-of-type {\n",
       "        vertical-align: middle;\n",
       "    }\n",
       "\n",
       "    .dataframe tbody tr th {\n",
       "        vertical-align: top;\n",
       "    }\n",
       "\n",
       "    .dataframe thead th {\n",
       "        text-align: right;\n",
       "    }\n",
       "</style>\n",
       "<table border=\"1\" class=\"dataframe\">\n",
       "  <thead>\n",
       "    <tr style=\"text-align: right;\">\n",
       "      <th></th>\n",
       "      <th>Price</th>\n",
       "      <th>total_sqft</th>\n",
       "      <th>bed</th>\n",
       "      <th>bath</th>\n",
       "      <th>Location</th>\n",
       "      <th>City</th>\n",
       "      <th>price_per_sqft</th>\n",
       "    </tr>\n",
       "  </thead>\n",
       "  <tbody>\n",
       "    <tr>\n",
       "      <th>0</th>\n",
       "      <td>1675000</td>\n",
       "      <td>2716</td>\n",
       "      <td>5</td>\n",
       "      <td>5</td>\n",
       "      <td>Wimbledon</td>\n",
       "      <td>London</td>\n",
       "      <td>826.399116</td>\n",
       "    </tr>\n",
       "    <tr>\n",
       "      <th>1</th>\n",
       "      <td>650000</td>\n",
       "      <td>814</td>\n",
       "      <td>2</td>\n",
       "      <td>2</td>\n",
       "      <td>Clerkenwell</td>\n",
       "      <td>London</td>\n",
       "      <td>1070.024570</td>\n",
       "    </tr>\n",
       "    <tr>\n",
       "      <th>2</th>\n",
       "      <td>735000</td>\n",
       "      <td>761</td>\n",
       "      <td>2</td>\n",
       "      <td>2</td>\n",
       "      <td>Putney</td>\n",
       "      <td>London</td>\n",
       "      <td>1294.218134</td>\n",
       "    </tr>\n",
       "    <tr>\n",
       "      <th>3</th>\n",
       "      <td>1765000</td>\n",
       "      <td>1986</td>\n",
       "      <td>4</td>\n",
       "      <td>4</td>\n",
       "      <td>Putney</td>\n",
       "      <td>London</td>\n",
       "      <td>1190.886203</td>\n",
       "    </tr>\n",
       "    <tr>\n",
       "      <th>4</th>\n",
       "      <td>675000</td>\n",
       "      <td>700</td>\n",
       "      <td>2</td>\n",
       "      <td>2</td>\n",
       "      <td>Putney</td>\n",
       "      <td>London</td>\n",
       "      <td>1292.142857</td>\n",
       "    </tr>\n",
       "  </tbody>\n",
       "</table>\n",
       "</div>"
      ],
      "text/plain": [
       "     Price  total_sqft  bed  bath     Location    City  price_per_sqft\n",
       "0  1675000        2716    5     5    Wimbledon  London      826.399116\n",
       "1   650000         814    2     2  Clerkenwell  London     1070.024570\n",
       "2   735000         761    2     2       Putney  London     1294.218134\n",
       "3  1765000        1986    4     4       Putney  London     1190.886203\n",
       "4   675000         700    2     2       Putney  London     1292.142857"
      ]
     },
     "execution_count": 47,
     "metadata": {},
     "output_type": "execute_result"
    }
   ],
   "source": [
    "df2 = df1.loc[:,~df1.columns.duplicated()]\n",
    "df2.head()"
   ]
  },
  {
   "cell_type": "code",
   "execution_count": 52,
   "id": "615c9daf",
   "metadata": {},
   "outputs": [
    {
     "data": {
      "text/plain": [
       "(2972, 7)"
      ]
     },
     "execution_count": 52,
     "metadata": {},
     "output_type": "execute_result"
    }
   ],
   "source": [
    "df3 = df2[df2.City == 'London']\n",
    "df3.City.unique()\n",
    "df3.shape"
   ]
  },
  {
   "cell_type": "markdown",
   "id": "7628ad74",
   "metadata": {},
   "source": [
    "## Dimensionality Reduction"
   ]
  },
  {
   "cell_type": "code",
   "execution_count": 80,
   "id": "e8730ae9",
   "metadata": {},
   "outputs": [
    {
     "data": {
      "text/plain": [
       "Location\n",
       "other                       821\n",
       "Putney                       96\n",
       "Barnes                       71\n",
       "Wandsworth                   70\n",
       "Wimbledon                    68\n",
       "Chiswick                     57\n",
       "Islington                    52\n",
       "Battersea                    51\n",
       " Battersea                   43\n",
       "Fulham                       41\n",
       "Marylebone                   40\n",
       " Canary Wharf                34\n",
       " Fulham                      33\n",
       "Hampstead                    31\n",
       "Hackney                      31\n",
       " Putney                      30\n",
       "Primrose Hill                29\n",
       "Clerkenwell                  28\n",
       "Mayfair                      24\n",
       "Belgravia                    23\n",
       "East Sheen                   18\n",
       "Highgate                     18\n",
       "Ealing                       17\n",
       "South Hackney                17\n",
       " Marylebone                  16\n",
       " Wandsworth                  16\n",
       "St John's Wood               15\n",
       " Westminster                 15\n",
       "Notting Hill                 15\n",
       "St. John's Wood              14\n",
       "Prince of Wales Drive        14\n",
       "Shoreditch                   14\n",
       " Wimbledon                   14\n",
       "Fitzrovia                    13\n",
       "Highbury                     13\n",
       "Regent's Park                12\n",
       "Maida Vale                   11\n",
       "Pimlico                      11\n",
       "Chelsea                      11\n",
       "101 Wood Lane                11\n",
       "Little Venice                10\n",
       "Kentish Town                 10\n",
       "Canary Wharf                 10\n",
       "Belsize Park                 10\n",
       "82-88 Fulham High Street     10\n",
       " Shoreditch                  10\n",
       " Hampstead                   10\n",
       " Earls Court                 10\n",
       " Chiswick                    10\n",
       " Barnes                      10\n",
       "Name: Location, dtype: int64"
      ]
     },
     "execution_count": 80,
     "metadata": {},
     "output_type": "execute_result"
    }
   ],
   "source": [
    "location_stats = df3.groupby('Location')['Location'].agg('count').sort_values(ascending=False)\n",
    "location_stats"
   ]
  },
  {
   "cell_type": "code",
   "execution_count": 60,
   "id": "c6d3b2e0",
   "metadata": {},
   "outputs": [
    {
     "data": {
      "text/plain": [
       "2058"
      ]
     },
     "execution_count": 60,
     "metadata": {},
     "output_type": "execute_result"
    }
   ],
   "source": [
    "location_stats.values.sum()"
   ]
  },
  {
   "cell_type": "code",
   "execution_count": 61,
   "id": "62c33b7b",
   "metadata": {},
   "outputs": [
    {
     "data": {
      "text/plain": [
       "39"
      ]
     },
     "execution_count": 61,
     "metadata": {},
     "output_type": "execute_result"
    }
   ],
   "source": [
    "len(location_stats[location_stats>10])"
   ]
  },
  {
   "cell_type": "code",
   "execution_count": 81,
   "id": "0eb17a22",
   "metadata": {},
   "outputs": [
    {
     "data": {
      "text/plain": [
       "Series([], Name: Location, dtype: int64)"
      ]
     },
     "execution_count": 81,
     "metadata": {},
     "output_type": "execute_result"
    }
   ],
   "source": [
    "location_stats_less_than_10 = location_stats[location_stats<10]\n",
    "location_stats_less_than_10"
   ]
  },
  {
   "cell_type": "code",
   "execution_count": 73,
   "id": "19011a00",
   "metadata": {},
   "outputs": [
    {
     "data": {
      "text/plain": [
       "51"
      ]
     },
     "execution_count": 73,
     "metadata": {},
     "output_type": "execute_result"
    }
   ],
   "source": [
    "len(df3.Location.unique())"
   ]
  },
  {
   "cell_type": "code",
   "execution_count": 89,
   "id": "7f7b4f96",
   "metadata": {},
   "outputs": [
    {
     "data": {
      "text/html": [
       "<div>\n",
       "<style scoped>\n",
       "    .dataframe tbody tr th:only-of-type {\n",
       "        vertical-align: middle;\n",
       "    }\n",
       "\n",
       "    .dataframe tbody tr th {\n",
       "        vertical-align: top;\n",
       "    }\n",
       "\n",
       "    .dataframe thead th {\n",
       "        text-align: right;\n",
       "    }\n",
       "</style>\n",
       "<table border=\"1\" class=\"dataframe\">\n",
       "  <thead>\n",
       "    <tr style=\"text-align: right;\">\n",
       "      <th></th>\n",
       "      <th>Price</th>\n",
       "      <th>total_sqft</th>\n",
       "      <th>bed</th>\n",
       "      <th>bath</th>\n",
       "      <th>Location</th>\n",
       "      <th>City</th>\n",
       "      <th>price_per_sqft</th>\n",
       "    </tr>\n",
       "  </thead>\n",
       "  <tbody>\n",
       "    <tr>\n",
       "      <th>0</th>\n",
       "      <td>1675000</td>\n",
       "      <td>2716</td>\n",
       "      <td>5</td>\n",
       "      <td>5</td>\n",
       "      <td>Wimbledon</td>\n",
       "      <td>London</td>\n",
       "      <td>826.399116</td>\n",
       "    </tr>\n",
       "    <tr>\n",
       "      <th>1</th>\n",
       "      <td>650000</td>\n",
       "      <td>814</td>\n",
       "      <td>2</td>\n",
       "      <td>2</td>\n",
       "      <td>Clerkenwell</td>\n",
       "      <td>London</td>\n",
       "      <td>1070.024570</td>\n",
       "    </tr>\n",
       "    <tr>\n",
       "      <th>2</th>\n",
       "      <td>735000</td>\n",
       "      <td>761</td>\n",
       "      <td>2</td>\n",
       "      <td>2</td>\n",
       "      <td>Putney</td>\n",
       "      <td>London</td>\n",
       "      <td>1294.218134</td>\n",
       "    </tr>\n",
       "    <tr>\n",
       "      <th>3</th>\n",
       "      <td>1765000</td>\n",
       "      <td>1986</td>\n",
       "      <td>4</td>\n",
       "      <td>4</td>\n",
       "      <td>Putney</td>\n",
       "      <td>London</td>\n",
       "      <td>1190.886203</td>\n",
       "    </tr>\n",
       "    <tr>\n",
       "      <th>4</th>\n",
       "      <td>675000</td>\n",
       "      <td>700</td>\n",
       "      <td>2</td>\n",
       "      <td>2</td>\n",
       "      <td>Putney</td>\n",
       "      <td>London</td>\n",
       "      <td>1292.142857</td>\n",
       "    </tr>\n",
       "    <tr>\n",
       "      <th>5</th>\n",
       "      <td>420000</td>\n",
       "      <td>403</td>\n",
       "      <td>1</td>\n",
       "      <td>1</td>\n",
       "      <td>NaN</td>\n",
       "      <td>London</td>\n",
       "      <td>1396.526055</td>\n",
       "    </tr>\n",
       "    <tr>\n",
       "      <th>6</th>\n",
       "      <td>1475000</td>\n",
       "      <td>1548</td>\n",
       "      <td>4</td>\n",
       "      <td>4</td>\n",
       "      <td>NaN</td>\n",
       "      <td>London</td>\n",
       "      <td>1276.808786</td>\n",
       "    </tr>\n",
       "    <tr>\n",
       "      <th>7</th>\n",
       "      <td>650000</td>\n",
       "      <td>560</td>\n",
       "      <td>1</td>\n",
       "      <td>1</td>\n",
       "      <td>Fulham</td>\n",
       "      <td>London</td>\n",
       "      <td>1555.357143</td>\n",
       "    </tr>\n",
       "    <tr>\n",
       "      <th>8</th>\n",
       "      <td>2500000</td>\n",
       "      <td>1308</td>\n",
       "      <td>3</td>\n",
       "      <td>3</td>\n",
       "      <td>NaN</td>\n",
       "      <td>London</td>\n",
       "      <td>2561.162080</td>\n",
       "    </tr>\n",
       "    <tr>\n",
       "      <th>9</th>\n",
       "      <td>925000</td>\n",
       "      <td>646</td>\n",
       "      <td>2</td>\n",
       "      <td>2</td>\n",
       "      <td>NaN</td>\n",
       "      <td>London</td>\n",
       "      <td>1918.730650</td>\n",
       "    </tr>\n",
       "  </tbody>\n",
       "</table>\n",
       "</div>"
      ],
      "text/plain": [
       "     Price  total_sqft  bed  bath     Location    City  price_per_sqft\n",
       "0  1675000        2716    5     5    Wimbledon  London      826.399116\n",
       "1   650000         814    2     2  Clerkenwell  London     1070.024570\n",
       "2   735000         761    2     2       Putney  London     1294.218134\n",
       "3  1765000        1986    4     4       Putney  London     1190.886203\n",
       "4   675000         700    2     2       Putney  London     1292.142857\n",
       "5   420000         403    1     1          NaN  London     1396.526055\n",
       "6  1475000        1548    4     4          NaN  London     1276.808786\n",
       "7   650000         560    1     1       Fulham  London     1555.357143\n",
       "8  2500000        1308    3     3          NaN  London     2561.162080\n",
       "9   925000         646    2     2          NaN  London     1918.730650"
      ]
     },
     "execution_count": 89,
     "metadata": {},
     "output_type": "execute_result"
    }
   ],
   "source": [
    "df4 = df3.copy()\n",
    "df4.Location = df3.Location.apply(lambda x: 'other' if x in location_stats_less_than_10 else x)\n",
    "df4.head(10)"
   ]
  },
  {
   "cell_type": "code",
   "execution_count": 92,
   "id": "2f04b54e",
   "metadata": {},
   "outputs": [
    {
     "data": {
      "text/plain": [
       "Price               0\n",
       "total_sqft          0\n",
       "bed                 0\n",
       "bath                0\n",
       "Location          914\n",
       "City                0\n",
       "price_per_sqft      0\n",
       "dtype: int64"
      ]
     },
     "execution_count": 92,
     "metadata": {},
     "output_type": "execute_result"
    }
   ],
   "source": [
    "df4.isnull().sum()"
   ]
  },
  {
   "cell_type": "code",
   "execution_count": 93,
   "id": "be034a58",
   "metadata": {},
   "outputs": [
    {
     "data": {
      "text/plain": [
       "(2972, 7)"
      ]
     },
     "execution_count": 93,
     "metadata": {},
     "output_type": "execute_result"
    }
   ],
   "source": [
    "df4.shape"
   ]
  },
  {
   "cell_type": "code",
   "execution_count": 94,
   "id": "e5b84c83",
   "metadata": {},
   "outputs": [
    {
     "data": {
      "text/plain": [
       "Price             0\n",
       "total_sqft        0\n",
       "bed               0\n",
       "bath              0\n",
       "Location          0\n",
       "City              0\n",
       "price_per_sqft    0\n",
       "dtype: int64"
      ]
     },
     "execution_count": 94,
     "metadata": {},
     "output_type": "execute_result"
    }
   ],
   "source": [
    "df5 = df4.dropna()\n",
    "df5.isnull().sum()"
   ]
  },
  {
   "cell_type": "code",
   "execution_count": 96,
   "id": "9b043e26",
   "metadata": {},
   "outputs": [
    {
     "data": {
      "text/plain": [
       "(2058, 7)"
      ]
     },
     "execution_count": 96,
     "metadata": {},
     "output_type": "execute_result"
    }
   ],
   "source": [
    "df5.shape"
   ]
  },
  {
   "cell_type": "markdown",
   "id": "23049700",
   "metadata": {},
   "source": [
    "## basic outlier removal"
   ]
  },
  {
   "cell_type": "code",
   "execution_count": 100,
   "id": "e8627528",
   "metadata": {},
   "outputs": [
    {
     "data": {
      "text/html": [
       "<div>\n",
       "<style scoped>\n",
       "    .dataframe tbody tr th:only-of-type {\n",
       "        vertical-align: middle;\n",
       "    }\n",
       "\n",
       "    .dataframe tbody tr th {\n",
       "        vertical-align: top;\n",
       "    }\n",
       "\n",
       "    .dataframe thead th {\n",
       "        text-align: right;\n",
       "    }\n",
       "</style>\n",
       "<table border=\"1\" class=\"dataframe\">\n",
       "  <thead>\n",
       "    <tr style=\"text-align: right;\">\n",
       "      <th></th>\n",
       "      <th>Price</th>\n",
       "      <th>total_sqft</th>\n",
       "      <th>bed</th>\n",
       "      <th>bath</th>\n",
       "      <th>Location</th>\n",
       "      <th>City</th>\n",
       "      <th>price_per_sqft</th>\n",
       "    </tr>\n",
       "  </thead>\n",
       "  <tbody>\n",
       "    <tr>\n",
       "      <th>30</th>\n",
       "      <td>1100000</td>\n",
       "      <td>582</td>\n",
       "      <td>2</td>\n",
       "      <td>2</td>\n",
       "      <td>other</td>\n",
       "      <td>London</td>\n",
       "      <td>2532.646048</td>\n",
       "    </tr>\n",
       "    <tr>\n",
       "      <th>49</th>\n",
       "      <td>725000</td>\n",
       "      <td>884</td>\n",
       "      <td>3</td>\n",
       "      <td>3</td>\n",
       "      <td>South Hackney</td>\n",
       "      <td>London</td>\n",
       "      <td>1098.981900</td>\n",
       "    </tr>\n",
       "    <tr>\n",
       "      <th>60</th>\n",
       "      <td>875000</td>\n",
       "      <td>1132</td>\n",
       "      <td>4</td>\n",
       "      <td>4</td>\n",
       "      <td>other</td>\n",
       "      <td>London</td>\n",
       "      <td>1035.777385</td>\n",
       "    </tr>\n",
       "    <tr>\n",
       "      <th>105</th>\n",
       "      <td>1000000</td>\n",
       "      <td>1154</td>\n",
       "      <td>4</td>\n",
       "      <td>4</td>\n",
       "      <td>South Hackney</td>\n",
       "      <td>London</td>\n",
       "      <td>1161.178510</td>\n",
       "    </tr>\n",
       "    <tr>\n",
       "      <th>175</th>\n",
       "      <td>525000</td>\n",
       "      <td>514</td>\n",
       "      <td>2</td>\n",
       "      <td>2</td>\n",
       "      <td>Wimbledon</td>\n",
       "      <td>London</td>\n",
       "      <td>1368.677043</td>\n",
       "    </tr>\n",
       "  </tbody>\n",
       "</table>\n",
       "</div>"
      ],
      "text/plain": [
       "       Price  total_sqft  bed  bath       Location    City  price_per_sqft\n",
       "30   1100000         582    2     2          other  London     2532.646048\n",
       "49    725000         884    3     3  South Hackney  London     1098.981900\n",
       "60    875000        1132    4     4          other  London     1035.777385\n",
       "105  1000000        1154    4     4  South Hackney  London     1161.178510\n",
       "175   525000         514    2     2      Wimbledon  London     1368.677043"
      ]
     },
     "execution_count": 100,
     "metadata": {},
     "output_type": "execute_result"
    }
   ],
   "source": [
    "df5[df5.total_sqft/df5.bed<300].head()"
   ]
  },
  {
   "cell_type": "code",
   "execution_count": 101,
   "id": "c8de5548",
   "metadata": {},
   "outputs": [
    {
     "data": {
      "text/plain": [
       "(2004, 7)"
      ]
     },
     "execution_count": 101,
     "metadata": {},
     "output_type": "execute_result"
    }
   ],
   "source": [
    "df6 = df5[~(df5.total_sqft/df5.bed<300)]\n",
    "df6.shape"
   ]
  },
  {
   "cell_type": "markdown",
   "id": "3993c634",
   "metadata": {},
   "source": [
    "## Outlier Removal Using Standard Deviation and Mean"
   ]
  },
  {
   "cell_type": "code",
   "execution_count": 102,
   "id": "629a835c",
   "metadata": {},
   "outputs": [
    {
     "data": {
      "text/plain": [
       "count    2004.000000\n",
       "mean     1534.213341\n",
       "std       815.729867\n",
       "min       323.758389\n",
       "25%      1064.849564\n",
       "50%      1292.213862\n",
       "75%      1723.278135\n",
       "max      9472.701405\n",
       "Name: price_per_sqft, dtype: float64"
      ]
     },
     "execution_count": 102,
     "metadata": {},
     "output_type": "execute_result"
    }
   ],
   "source": [
    "df6.price_per_sqft.describe()"
   ]
  },
  {
   "cell_type": "code",
   "execution_count": 103,
   "id": "e1142702",
   "metadata": {},
   "outputs": [
    {
     "data": {
      "text/plain": [
       "(1522, 7)"
      ]
     },
     "execution_count": 103,
     "metadata": {},
     "output_type": "execute_result"
    }
   ],
   "source": [
    "def remove_pps_outliers(df):\n",
    "    df_out = pd.DataFrame()\n",
    "    for key, subdf in df.groupby('Location'):\n",
    "        m = np.mean(subdf.price_per_sqft)\n",
    "        st = np.std(subdf.price_per_sqft)\n",
    "        reduced_df = subdf[(subdf.price_per_sqft>(m-st)) & (subdf.price_per_sqft<=(m+st))]\n",
    "        df_out = pd.concat([df_out,reduced_df],ignore_index=True)\n",
    "    return df_out\n",
    "df7 = remove_pps_outliers(df6)\n",
    "df7.shape"
   ]
  },
  {
   "cell_type": "code",
   "execution_count": 108,
   "id": "f78938f1",
   "metadata": {},
   "outputs": [
    {
     "data": {
      "image/png": "[encoded data removed]",
      "text/plain": [
       "<Figure size 1080x720 with 1 Axes>"
      ]
     },
     "metadata": {
      "needs_background": "light"
     },
     "output_type": "display_data"
    }
   ],
   "source": [
    "def plot_scatter_chart(df,Location):\n",
    "    bed2 = df[(df.Location==Location) & (df.bed==2)]\n",
    "    bed3 = df[(df.Location==Location) & (df.bed==3)]\n",
    "    matplotlib.rcParams['figure.figsize'] = (15,10)\n",
    "    plt.scatter(bed2.total_sqft,bed2.Price,color='blue',label='2 Bed', s=50)\n",
    "    plt.scatter(bed3.total_sqft,bed3.Price,marker='+', color='green',label='3 Bed', s=50)\n",
    "    plt.xlabel(\"Total Square Feet Area\")\n",
    "    plt.ylabel(\"Price (Pounds)\")\n",
    "    plt.title(Location)\n",
    "    plt.legend()\n",
    "    \n",
    "plot_scatter_chart(df7,\"Putney\")"
   ]
  },
  {
   "cell_type": "code",
   "execution_count": 110,
   "id": "a26fe212",
   "metadata": {},
   "outputs": [
    {
     "data": {
      "image/png": "[encoded data removed]",
      "text/plain": [
       "<Figure size 1080x720 with 1 Axes>"
      ]
     },
     "metadata": {
      "needs_background": "light"
     },
     "output_type": "display_data"
    }
   ],
   "source": [
    "plot_scatter_chart(df7,\"Barnes\")"
   ]
  },
  {
   "cell_type": "code",
   "execution_count": 114,
   "id": "b13f054d",
   "metadata": {},
   "outputs": [
    {
     "data": {
      "text/plain": [
       "(1064, 7)"
      ]
     },
     "execution_count": 114,
     "metadata": {},
     "output_type": "execute_result"
    }
   ],
   "source": [
    "def remove_bed_outliers(df):\n",
    "    exclude_indices = np.array([])\n",
    "    for Location, Location_df in df.groupby('Location'):\n",
    "        bed_stats = {}\n",
    "        for bed, bed_df in Location_df.groupby('bed'):\n",
    "            bed_stats[bed] = {\n",
    "                'mean': np.mean(bed_df.price_per_sqft),\n",
    "                'std': np.std(bed_df.price_per_sqft),\n",
    "                'count': bed_df.shape[0]\n",
    "            }\n",
    "        for bed, bed_df in Location_df.groupby('bed'):\n",
    "            stats = bed_stats.get(bed-1)\n",
    "            if stats and stats['count']>5:\n",
    "                exclude_indices = np.append(exclude_indices, bed_df[bed_df.price_per_sqft<(stats['mean'])].index.values)\n",
    "    return df.drop(exclude_indices,axis='index')\n",
    "df8 = remove_bed_outliers(df7)\n",
    "# df8 = df7.copy()\n",
    "df8.shape"
   ]
  },
  {
   "cell_type": "code",
   "execution_count": 115,
   "id": "2cca6dfe",
   "metadata": {},
   "outputs": [
    {
     "data": {
      "image/png": "[encoded data removed]",
      "text/plain": [
       "<Figure size 1080x720 with 1 Axes>"
      ]
     },
     "metadata": {
      "needs_background": "light"
     },
     "output_type": "display_data"
    }
   ],
   "source": [
    "plot_scatter_chart(df8,\"Putney\")"
   ]
  },
  {
   "cell_type": "code",
   "execution_count": 116,
   "id": "6eefaca9",
   "metadata": {},
   "outputs": [
    {
     "data": {
      "text/plain": [
       "Text(0, 0.5, 'Count')"
      ]
     },
     "execution_count": 116,
     "metadata": {},
     "output_type": "execute_result"
    },
    {
     "data": {
      "image/png": "[encoded data removed]",
      "text/plain": [
       "<Figure size 1440x720 with 1 Axes>"
      ]
     },
     "metadata": {
      "needs_background": "light"
     },
     "output_type": "display_data"
    }
   ],
   "source": [
    "import matplotlib\n",
    "matplotlib.rcParams[\"figure.figsize\"] = (20,10)\n",
    "plt.hist(df8.price_per_sqft,rwidth=0.8)\n",
    "plt.xlabel(\"Price Per Square Feet\")\n",
    "plt.ylabel(\"Count\")"
   ]
  },
  {
   "cell_type": "markdown",
   "id": "db986b08",
   "metadata": {},
   "source": [
    "## One Hot Encoding for Location"
   ]
  },
  {
   "cell_type": "code",
   "execution_count": 117,
   "id": "79522e2c",
   "metadata": {},
   "outputs": [
    {
     "data": {
      "text/html": [
       "<div>\n",
       "<style scoped>\n",
       "    .dataframe tbody tr th:only-of-type {\n",
       "        vertical-align: middle;\n",
       "    }\n",
       "\n",
       "    .dataframe tbody tr th {\n",
       "        vertical-align: top;\n",
       "    }\n",
       "\n",
       "    .dataframe thead th {\n",
       "        text-align: right;\n",
       "    }\n",
       "</style>\n",
       "<table border=\"1\" class=\"dataframe\">\n",
       "  <thead>\n",
       "    <tr style=\"text-align: right;\">\n",
       "      <th></th>\n",
       "      <th>Price</th>\n",
       "      <th>total_sqft</th>\n",
       "      <th>bed</th>\n",
       "      <th>bath</th>\n",
       "      <th>Location</th>\n",
       "      <th>City</th>\n",
       "      <th>price_per_sqft</th>\n",
       "    </tr>\n",
       "  </thead>\n",
       "  <tbody>\n",
       "    <tr>\n",
       "      <th>0</th>\n",
       "      <td>1300000</td>\n",
       "      <td>1299</td>\n",
       "      <td>2</td>\n",
       "      <td>2</td>\n",
       "      <td>Barnes</td>\n",
       "      <td>London</td>\n",
       "      <td>1341.031563</td>\n",
       "    </tr>\n",
       "    <tr>\n",
       "      <th>1</th>\n",
       "      <td>1700000</td>\n",
       "      <td>1796</td>\n",
       "      <td>3</td>\n",
       "      <td>3</td>\n",
       "      <td>Barnes</td>\n",
       "      <td>London</td>\n",
       "      <td>1268.374165</td>\n",
       "    </tr>\n",
       "    <tr>\n",
       "      <th>2</th>\n",
       "      <td>700000</td>\n",
       "      <td>736</td>\n",
       "      <td>1</td>\n",
       "      <td>1</td>\n",
       "      <td>Barnes</td>\n",
       "      <td>London</td>\n",
       "      <td>1274.456522</td>\n",
       "    </tr>\n",
       "    <tr>\n",
       "      <th>3</th>\n",
       "      <td>1150000</td>\n",
       "      <td>1349</td>\n",
       "      <td>2</td>\n",
       "      <td>2</td>\n",
       "      <td>Barnes</td>\n",
       "      <td>London</td>\n",
       "      <td>1142.327650</td>\n",
       "    </tr>\n",
       "    <tr>\n",
       "      <th>4</th>\n",
       "      <td>9975000</td>\n",
       "      <td>10100</td>\n",
       "      <td>10</td>\n",
       "      <td>10</td>\n",
       "      <td>Battersea</td>\n",
       "      <td>London</td>\n",
       "      <td>1323.415842</td>\n",
       "    </tr>\n",
       "  </tbody>\n",
       "</table>\n",
       "</div>"
      ],
      "text/plain": [
       "     Price  total_sqft  bed  bath    Location    City  price_per_sqft\n",
       "0  1300000        1299    2     2      Barnes  London     1341.031563\n",
       "1  1700000        1796    3     3      Barnes  London     1268.374165\n",
       "2   700000         736    1     1      Barnes  London     1274.456522\n",
       "3  1150000        1349    2     2      Barnes  London     1142.327650\n",
       "4  9975000       10100   10    10   Battersea  London     1323.415842"
      ]
     },
     "execution_count": 117,
     "metadata": {},
     "output_type": "execute_result"
    }
   ],
   "source": [
    "df8.head()"
   ]
  },
  {
   "cell_type": "code",
   "execution_count": 124,
   "id": "57dc6ac8",
   "metadata": {},
   "outputs": [
    {
     "data": {
      "text/html": [
       "<div>\n",
       "<style scoped>\n",
       "    .dataframe tbody tr th:only-of-type {\n",
       "        vertical-align: middle;\n",
       "    }\n",
       "\n",
       "    .dataframe tbody tr th {\n",
       "        vertical-align: top;\n",
       "    }\n",
       "\n",
       "    .dataframe thead th {\n",
       "        text-align: right;\n",
       "    }\n",
       "</style>\n",
       "<table border=\"1\" class=\"dataframe\">\n",
       "  <thead>\n",
       "    <tr style=\"text-align: right;\">\n",
       "      <th></th>\n",
       "      <th>Price</th>\n",
       "      <th>total_sqft</th>\n",
       "      <th>bed</th>\n",
       "      <th>bath</th>\n",
       "      <th>Location</th>\n",
       "    </tr>\n",
       "  </thead>\n",
       "  <tbody>\n",
       "    <tr>\n",
       "      <th>0</th>\n",
       "      <td>1300000</td>\n",
       "      <td>1299</td>\n",
       "      <td>2</td>\n",
       "      <td>2</td>\n",
       "      <td>Barnes</td>\n",
       "    </tr>\n",
       "    <tr>\n",
       "      <th>1</th>\n",
       "      <td>1700000</td>\n",
       "      <td>1796</td>\n",
       "      <td>3</td>\n",
       "      <td>3</td>\n",
       "      <td>Barnes</td>\n",
       "    </tr>\n",
       "    <tr>\n",
       "      <th>2</th>\n",
       "      <td>700000</td>\n",
       "      <td>736</td>\n",
       "      <td>1</td>\n",
       "      <td>1</td>\n",
       "      <td>Barnes</td>\n",
       "    </tr>\n",
       "    <tr>\n",
       "      <th>3</th>\n",
       "      <td>1150000</td>\n",
       "      <td>1349</td>\n",
       "      <td>2</td>\n",
       "      <td>2</td>\n",
       "      <td>Barnes</td>\n",
       "    </tr>\n",
       "    <tr>\n",
       "      <th>4</th>\n",
       "      <td>9975000</td>\n",
       "      <td>10100</td>\n",
       "      <td>10</td>\n",
       "      <td>10</td>\n",
       "      <td>Battersea</td>\n",
       "    </tr>\n",
       "  </tbody>\n",
       "</table>\n",
       "</div>"
      ],
      "text/plain": [
       "     Price  total_sqft  bed  bath    Location\n",
       "0  1300000        1299    2     2      Barnes\n",
       "1  1700000        1796    3     3      Barnes\n",
       "2   700000         736    1     1      Barnes\n",
       "3  1150000        1349    2     2      Barnes\n",
       "4  9975000       10100   10    10   Battersea"
      ]
     },
     "execution_count": 124,
     "metadata": {},
     "output_type": "execute_result"
    }
   ],
   "source": [
    "df9 = df8.drop(['City','price_per_sqft'],axis='columns')\n",
    "df9.head()"
   ]
  },
  {
   "cell_type": "code",
   "execution_count": 125,
   "id": "3e6f2df7",
   "metadata": {},
   "outputs": [
    {
     "data": {
      "text/html": [
       "<div>\n",
       "<style scoped>\n",
       "    .dataframe tbody tr th:only-of-type {\n",
       "        vertical-align: middle;\n",
       "    }\n",
       "\n",
       "    .dataframe tbody tr th {\n",
       "        vertical-align: top;\n",
       "    }\n",
       "\n",
       "    .dataframe thead th {\n",
       "        text-align: right;\n",
       "    }\n",
       "</style>\n",
       "<table border=\"1\" class=\"dataframe\">\n",
       "  <thead>\n",
       "    <tr style=\"text-align: right;\">\n",
       "      <th></th>\n",
       "      <th>Barnes</th>\n",
       "      <th>Battersea</th>\n",
       "      <th>Canary Wharf</th>\n",
       "      <th>Chiswick</th>\n",
       "      <th>Earls Court</th>\n",
       "      <th>Fulham</th>\n",
       "      <th>Hampstead</th>\n",
       "      <th>Marylebone</th>\n",
       "      <th>Putney</th>\n",
       "      <th>Shoreditch</th>\n",
       "      <th>...</th>\n",
       "      <th>Prince of Wales Drive</th>\n",
       "      <th>Putney</th>\n",
       "      <th>Regent's Park</th>\n",
       "      <th>Shoreditch</th>\n",
       "      <th>South Hackney</th>\n",
       "      <th>St John's Wood</th>\n",
       "      <th>St. John's Wood</th>\n",
       "      <th>Wandsworth</th>\n",
       "      <th>Wimbledon</th>\n",
       "      <th>other</th>\n",
       "    </tr>\n",
       "  </thead>\n",
       "  <tbody>\n",
       "    <tr>\n",
       "      <th>0</th>\n",
       "      <td>1</td>\n",
       "      <td>0</td>\n",
       "      <td>0</td>\n",
       "      <td>0</td>\n",
       "      <td>0</td>\n",
       "      <td>0</td>\n",
       "      <td>0</td>\n",
       "      <td>0</td>\n",
       "      <td>0</td>\n",
       "      <td>0</td>\n",
       "      <td>...</td>\n",
       "      <td>0</td>\n",
       "      <td>0</td>\n",
       "      <td>0</td>\n",
       "      <td>0</td>\n",
       "      <td>0</td>\n",
       "      <td>0</td>\n",
       "      <td>0</td>\n",
       "      <td>0</td>\n",
       "      <td>0</td>\n",
       "      <td>0</td>\n",
       "    </tr>\n",
       "    <tr>\n",
       "      <th>1</th>\n",
       "      <td>1</td>\n",
       "      <td>0</td>\n",
       "      <td>0</td>\n",
       "      <td>0</td>\n",
       "      <td>0</td>\n",
       "      <td>0</td>\n",
       "      <td>0</td>\n",
       "      <td>0</td>\n",
       "      <td>0</td>\n",
       "      <td>0</td>\n",
       "      <td>...</td>\n",
       "      <td>0</td>\n",
       "      <td>0</td>\n",
       "      <td>0</td>\n",
       "      <td>0</td>\n",
       "      <td>0</td>\n",
       "      <td>0</td>\n",
       "      <td>0</td>\n",
       "      <td>0</td>\n",
       "      <td>0</td>\n",
       "      <td>0</td>\n",
       "    </tr>\n",
       "    <tr>\n",
       "      <th>2</th>\n",
       "      <td>1</td>\n",
       "      <td>0</td>\n",
       "      <td>0</td>\n",
       "      <td>0</td>\n",
       "      <td>0</td>\n",
       "      <td>0</td>\n",
       "      <td>0</td>\n",
       "      <td>0</td>\n",
       "      <td>0</td>\n",
       "      <td>0</td>\n",
       "      <td>...</td>\n",
       "      <td>0</td>\n",
       "      <td>0</td>\n",
       "      <td>0</td>\n",
       "      <td>0</td>\n",
       "      <td>0</td>\n",
       "      <td>0</td>\n",
       "      <td>0</td>\n",
       "      <td>0</td>\n",
       "      <td>0</td>\n",
       "      <td>0</td>\n",
       "    </tr>\n",
       "  </tbody>\n",
       "</table>\n",
       "<p>3 rows × 50 columns</p>\n",
       "</div>"
      ],
      "text/plain": [
       "    Barnes   Battersea   Canary Wharf   Chiswick   Earls Court   Fulham  \\\n",
       "0        1           0              0          0             0        0   \n",
       "1        1           0              0          0             0        0   \n",
       "2        1           0              0          0             0        0   \n",
       "\n",
       "    Hampstead   Marylebone   Putney   Shoreditch  ...  Prince of Wales Drive  \\\n",
       "0           0            0        0            0  ...                      0   \n",
       "1           0            0        0            0  ...                      0   \n",
       "2           0            0        0            0  ...                      0   \n",
       "\n",
       "   Putney  Regent's Park  Shoreditch  South Hackney  St John's Wood  \\\n",
       "0       0              0           0              0               0   \n",
       "1       0              0           0              0               0   \n",
       "2       0              0           0              0               0   \n",
       "\n",
       "   St. John's Wood  Wandsworth  Wimbledon  other  \n",
       "0                0           0          0      0  \n",
       "1                0           0          0      0  \n",
       "2                0           0          0      0  \n",
       "\n",
       "[3 rows x 50 columns]"
      ]
     },
     "execution_count": 125,
     "metadata": {},
     "output_type": "execute_result"
    }
   ],
   "source": [
    "dummies = pd.get_dummies(df9.Location)\n",
    "dummies.head(3)"
   ]
  },
  {
   "cell_type": "code",
   "execution_count": 126,
   "id": "820a4509",
   "metadata": {},
   "outputs": [
    {
     "data": {
      "text/html": [
       "<div>\n",
       "<style scoped>\n",
       "    .dataframe tbody tr th:only-of-type {\n",
       "        vertical-align: middle;\n",
       "    }\n",
       "\n",
       "    .dataframe tbody tr th {\n",
       "        vertical-align: top;\n",
       "    }\n",
       "\n",
       "    .dataframe thead th {\n",
       "        text-align: right;\n",
       "    }\n",
       "</style>\n",
       "<table border=\"1\" class=\"dataframe\">\n",
       "  <thead>\n",
       "    <tr style=\"text-align: right;\">\n",
       "      <th></th>\n",
       "      <th>Price</th>\n",
       "      <th>total_sqft</th>\n",
       "      <th>bed</th>\n",
       "      <th>bath</th>\n",
       "      <th>Location</th>\n",
       "      <th>Barnes</th>\n",
       "      <th>Battersea</th>\n",
       "      <th>Canary Wharf</th>\n",
       "      <th>Chiswick</th>\n",
       "      <th>Earls Court</th>\n",
       "      <th>...</th>\n",
       "      <th>Primrose Hill</th>\n",
       "      <th>Prince of Wales Drive</th>\n",
       "      <th>Putney</th>\n",
       "      <th>Regent's Park</th>\n",
       "      <th>Shoreditch</th>\n",
       "      <th>South Hackney</th>\n",
       "      <th>St John's Wood</th>\n",
       "      <th>St. John's Wood</th>\n",
       "      <th>Wandsworth</th>\n",
       "      <th>Wimbledon</th>\n",
       "    </tr>\n",
       "  </thead>\n",
       "  <tbody>\n",
       "    <tr>\n",
       "      <th>0</th>\n",
       "      <td>1300000</td>\n",
       "      <td>1299</td>\n",
       "      <td>2</td>\n",
       "      <td>2</td>\n",
       "      <td>Barnes</td>\n",
       "      <td>1</td>\n",
       "      <td>0</td>\n",
       "      <td>0</td>\n",
       "      <td>0</td>\n",
       "      <td>0</td>\n",
       "      <td>...</td>\n",
       "      <td>0</td>\n",
       "      <td>0</td>\n",
       "      <td>0</td>\n",
       "      <td>0</td>\n",
       "      <td>0</td>\n",
       "      <td>0</td>\n",
       "      <td>0</td>\n",
       "      <td>0</td>\n",
       "      <td>0</td>\n",
       "      <td>0</td>\n",
       "    </tr>\n",
       "    <tr>\n",
       "      <th>1</th>\n",
       "      <td>1700000</td>\n",
       "      <td>1796</td>\n",
       "      <td>3</td>\n",
       "      <td>3</td>\n",
       "      <td>Barnes</td>\n",
       "      <td>1</td>\n",
       "      <td>0</td>\n",
       "      <td>0</td>\n",
       "      <td>0</td>\n",
       "      <td>0</td>\n",
       "      <td>...</td>\n",
       "      <td>0</td>\n",
       "      <td>0</td>\n",
       "      <td>0</td>\n",
       "      <td>0</td>\n",
       "      <td>0</td>\n",
       "      <td>0</td>\n",
       "      <td>0</td>\n",
       "      <td>0</td>\n",
       "      <td>0</td>\n",
       "      <td>0</td>\n",
       "    </tr>\n",
       "    <tr>\n",
       "      <th>2</th>\n",
       "      <td>700000</td>\n",
       "      <td>736</td>\n",
       "      <td>1</td>\n",
       "      <td>1</td>\n",
       "      <td>Barnes</td>\n",
       "      <td>1</td>\n",
       "      <td>0</td>\n",
       "      <td>0</td>\n",
       "      <td>0</td>\n",
       "      <td>0</td>\n",
       "      <td>...</td>\n",
       "      <td>0</td>\n",
       "      <td>0</td>\n",
       "      <td>0</td>\n",
       "      <td>0</td>\n",
       "      <td>0</td>\n",
       "      <td>0</td>\n",
       "      <td>0</td>\n",
       "      <td>0</td>\n",
       "      <td>0</td>\n",
       "      <td>0</td>\n",
       "    </tr>\n",
       "    <tr>\n",
       "      <th>3</th>\n",
       "      <td>1150000</td>\n",
       "      <td>1349</td>\n",
       "      <td>2</td>\n",
       "      <td>2</td>\n",
       "      <td>Barnes</td>\n",
       "      <td>1</td>\n",
       "      <td>0</td>\n",
       "      <td>0</td>\n",
       "      <td>0</td>\n",
       "      <td>0</td>\n",
       "      <td>...</td>\n",
       "      <td>0</td>\n",
       "      <td>0</td>\n",
       "      <td>0</td>\n",
       "      <td>0</td>\n",
       "      <td>0</td>\n",
       "      <td>0</td>\n",
       "      <td>0</td>\n",
       "      <td>0</td>\n",
       "      <td>0</td>\n",
       "      <td>0</td>\n",
       "    </tr>\n",
       "    <tr>\n",
       "      <th>4</th>\n",
       "      <td>9975000</td>\n",
       "      <td>10100</td>\n",
       "      <td>10</td>\n",
       "      <td>10</td>\n",
       "      <td>Battersea</td>\n",
       "      <td>0</td>\n",
       "      <td>1</td>\n",
       "      <td>0</td>\n",
       "      <td>0</td>\n",
       "      <td>0</td>\n",
       "      <td>...</td>\n",
       "      <td>0</td>\n",
       "      <td>0</td>\n",
       "      <td>0</td>\n",
       "      <td>0</td>\n",
       "      <td>0</td>\n",
       "      <td>0</td>\n",
       "      <td>0</td>\n",
       "      <td>0</td>\n",
       "      <td>0</td>\n",
       "      <td>0</td>\n",
       "    </tr>\n",
       "  </tbody>\n",
       "</table>\n",
       "<p>5 rows × 54 columns</p>\n",
       "</div>"
      ],
      "text/plain": [
       "     Price  total_sqft  bed  bath    Location   Barnes   Battersea  \\\n",
       "0  1300000        1299    2     2      Barnes        1           0   \n",
       "1  1700000        1796    3     3      Barnes        1           0   \n",
       "2   700000         736    1     1      Barnes        1           0   \n",
       "3  1150000        1349    2     2      Barnes        1           0   \n",
       "4  9975000       10100   10    10   Battersea        0           1   \n",
       "\n",
       "    Canary Wharf   Chiswick   Earls Court  ...  Primrose Hill  \\\n",
       "0              0          0             0  ...              0   \n",
       "1              0          0             0  ...              0   \n",
       "2              0          0             0  ...              0   \n",
       "3              0          0             0  ...              0   \n",
       "4              0          0             0  ...              0   \n",
       "\n",
       "   Prince of Wales Drive  Putney  Regent's Park  Shoreditch  South Hackney  \\\n",
       "0                      0       0              0           0              0   \n",
       "1                      0       0              0           0              0   \n",
       "2                      0       0              0           0              0   \n",
       "3                      0       0              0           0              0   \n",
       "4                      0       0              0           0              0   \n",
       "\n",
       "   St John's Wood  St. John's Wood  Wandsworth  Wimbledon  \n",
       "0               0                0           0          0  \n",
       "1               0                0           0          0  \n",
       "2               0                0           0          0  \n",
       "3               0                0           0          0  \n",
       "4               0                0           0          0  \n",
       "\n",
       "[5 rows x 54 columns]"
      ]
     },
     "execution_count": 126,
     "metadata": {},
     "output_type": "execute_result"
    }
   ],
   "source": [
    "df10 = pd.concat([df9,dummies.drop('other',axis='columns')],axis='columns')\n",
    "df10.head()"
   ]
  },
  {
   "cell_type": "code",
   "execution_count": 127,
   "id": "ff98781d",
   "metadata": {},
   "outputs": [
    {
     "data": {
      "text/html": [
       "<div>\n",
       "<style scoped>\n",
       "    .dataframe tbody tr th:only-of-type {\n",
       "        vertical-align: middle;\n",
       "    }\n",
       "\n",
       "    .dataframe tbody tr th {\n",
       "        vertical-align: top;\n",
       "    }\n",
       "\n",
       "    .dataframe thead th {\n",
       "        text-align: right;\n",
       "    }\n",
       "</style>\n",
       "<table border=\"1\" class=\"dataframe\">\n",
       "  <thead>\n",
       "    <tr style=\"text-align: right;\">\n",
       "      <th></th>\n",
       "      <th>Price</th>\n",
       "      <th>total_sqft</th>\n",
       "      <th>bed</th>\n",
       "      <th>bath</th>\n",
       "      <th>Barnes</th>\n",
       "      <th>Battersea</th>\n",
       "      <th>Canary Wharf</th>\n",
       "      <th>Chiswick</th>\n",
       "      <th>Earls Court</th>\n",
       "      <th>Fulham</th>\n",
       "      <th>...</th>\n",
       "      <th>Primrose Hill</th>\n",
       "      <th>Prince of Wales Drive</th>\n",
       "      <th>Putney</th>\n",
       "      <th>Regent's Park</th>\n",
       "      <th>Shoreditch</th>\n",
       "      <th>South Hackney</th>\n",
       "      <th>St John's Wood</th>\n",
       "      <th>St. John's Wood</th>\n",
       "      <th>Wandsworth</th>\n",
       "      <th>Wimbledon</th>\n",
       "    </tr>\n",
       "  </thead>\n",
       "  <tbody>\n",
       "    <tr>\n",
       "      <th>0</th>\n",
       "      <td>1300000</td>\n",
       "      <td>1299</td>\n",
       "      <td>2</td>\n",
       "      <td>2</td>\n",
       "      <td>1</td>\n",
       "      <td>0</td>\n",
       "      <td>0</td>\n",
       "      <td>0</td>\n",
       "      <td>0</td>\n",
       "      <td>0</td>\n",
       "      <td>...</td>\n",
       "      <td>0</td>\n",
       "      <td>0</td>\n",
       "      <td>0</td>\n",
       "      <td>0</td>\n",
       "      <td>0</td>\n",
       "      <td>0</td>\n",
       "      <td>0</td>\n",
       "      <td>0</td>\n",
       "      <td>0</td>\n",
       "      <td>0</td>\n",
       "    </tr>\n",
       "    <tr>\n",
       "      <th>1</th>\n",
       "      <td>1700000</td>\n",
       "      <td>1796</td>\n",
       "      <td>3</td>\n",
       "      <td>3</td>\n",
       "      <td>1</td>\n",
       "      <td>0</td>\n",
       "      <td>0</td>\n",
       "      <td>0</td>\n",
       "      <td>0</td>\n",
       "      <td>0</td>\n",
       "      <td>...</td>\n",
       "      <td>0</td>\n",
       "      <td>0</td>\n",
       "      <td>0</td>\n",
       "      <td>0</td>\n",
       "      <td>0</td>\n",
       "      <td>0</td>\n",
       "      <td>0</td>\n",
       "      <td>0</td>\n",
       "      <td>0</td>\n",
       "      <td>0</td>\n",
       "    </tr>\n",
       "  </tbody>\n",
       "</table>\n",
       "<p>2 rows × 53 columns</p>\n",
       "</div>"
      ],
      "text/plain": [
       "     Price  total_sqft  bed  bath   Barnes   Battersea   Canary Wharf  \\\n",
       "0  1300000        1299    2     2        1           0              0   \n",
       "1  1700000        1796    3     3        1           0              0   \n",
       "\n",
       "    Chiswick   Earls Court   Fulham  ...  Primrose Hill  \\\n",
       "0          0             0        0  ...              0   \n",
       "1          0             0        0  ...              0   \n",
       "\n",
       "   Prince of Wales Drive  Putney  Regent's Park  Shoreditch  South Hackney  \\\n",
       "0                      0       0              0           0              0   \n",
       "1                      0       0              0           0              0   \n",
       "\n",
       "   St John's Wood  St. John's Wood  Wandsworth  Wimbledon  \n",
       "0               0                0           0          0  \n",
       "1               0                0           0          0  \n",
       "\n",
       "[2 rows x 53 columns]"
      ]
     },
     "execution_count": 127,
     "metadata": {},
     "output_type": "execute_result"
    }
   ],
   "source": [
    "df11 = df10.drop('Location',axis='columns')\n",
    "df11.head(2)"
   ]
  },
  {
   "cell_type": "markdown",
   "id": "9073168d",
   "metadata": {},
   "source": [
    "## Building A Model"
   ]
  },
  {
   "cell_type": "code",
   "execution_count": 122,
   "id": "c2246850",
   "metadata": {},
   "outputs": [
    {
     "data": {
      "text/plain": [
       "(1064, 52)"
      ]
     },
     "execution_count": 122,
     "metadata": {},
     "output_type": "execute_result"
    }
   ],
   "source": [
    "df11.shape"
   ]
  },
  {
   "cell_type": "code",
   "execution_count": 128,
   "id": "9c47e032",
   "metadata": {},
   "outputs": [
    {
     "data": {
      "text/html": [
       "<div>\n",
       "<style scoped>\n",
       "    .dataframe tbody tr th:only-of-type {\n",
       "        vertical-align: middle;\n",
       "    }\n",
       "\n",
       "    .dataframe tbody tr th {\n",
       "        vertical-align: top;\n",
       "    }\n",
       "\n",
       "    .dataframe thead th {\n",
       "        text-align: right;\n",
       "    }\n",
       "</style>\n",
       "<table border=\"1\" class=\"dataframe\">\n",
       "  <thead>\n",
       "    <tr style=\"text-align: right;\">\n",
       "      <th></th>\n",
       "      <th>total_sqft</th>\n",
       "      <th>bed</th>\n",
       "      <th>bath</th>\n",
       "      <th>Barnes</th>\n",
       "      <th>Battersea</th>\n",
       "      <th>Canary Wharf</th>\n",
       "      <th>Chiswick</th>\n",
       "      <th>Earls Court</th>\n",
       "      <th>Fulham</th>\n",
       "      <th>Hampstead</th>\n",
       "      <th>...</th>\n",
       "      <th>Primrose Hill</th>\n",
       "      <th>Prince of Wales Drive</th>\n",
       "      <th>Putney</th>\n",
       "      <th>Regent's Park</th>\n",
       "      <th>Shoreditch</th>\n",
       "      <th>South Hackney</th>\n",
       "      <th>St John's Wood</th>\n",
       "      <th>St. John's Wood</th>\n",
       "      <th>Wandsworth</th>\n",
       "      <th>Wimbledon</th>\n",
       "    </tr>\n",
       "  </thead>\n",
       "  <tbody>\n",
       "    <tr>\n",
       "      <th>0</th>\n",
       "      <td>1299</td>\n",
       "      <td>2</td>\n",
       "      <td>2</td>\n",
       "      <td>1</td>\n",
       "      <td>0</td>\n",
       "      <td>0</td>\n",
       "      <td>0</td>\n",
       "      <td>0</td>\n",
       "      <td>0</td>\n",
       "      <td>0</td>\n",
       "      <td>...</td>\n",
       "      <td>0</td>\n",
       "      <td>0</td>\n",
       "      <td>0</td>\n",
       "      <td>0</td>\n",
       "      <td>0</td>\n",
       "      <td>0</td>\n",
       "      <td>0</td>\n",
       "      <td>0</td>\n",
       "      <td>0</td>\n",
       "      <td>0</td>\n",
       "    </tr>\n",
       "    <tr>\n",
       "      <th>1</th>\n",
       "      <td>1796</td>\n",
       "      <td>3</td>\n",
       "      <td>3</td>\n",
       "      <td>1</td>\n",
       "      <td>0</td>\n",
       "      <td>0</td>\n",
       "      <td>0</td>\n",
       "      <td>0</td>\n",
       "      <td>0</td>\n",
       "      <td>0</td>\n",
       "      <td>...</td>\n",
       "      <td>0</td>\n",
       "      <td>0</td>\n",
       "      <td>0</td>\n",
       "      <td>0</td>\n",
       "      <td>0</td>\n",
       "      <td>0</td>\n",
       "      <td>0</td>\n",
       "      <td>0</td>\n",
       "      <td>0</td>\n",
       "      <td>0</td>\n",
       "    </tr>\n",
       "    <tr>\n",
       "      <th>2</th>\n",
       "      <td>736</td>\n",
       "      <td>1</td>\n",
       "      <td>1</td>\n",
       "      <td>1</td>\n",
       "      <td>0</td>\n",
       "      <td>0</td>\n",
       "      <td>0</td>\n",
       "      <td>0</td>\n",
       "      <td>0</td>\n",
       "      <td>0</td>\n",
       "      <td>...</td>\n",
       "      <td>0</td>\n",
       "      <td>0</td>\n",
       "      <td>0</td>\n",
       "      <td>0</td>\n",
       "      <td>0</td>\n",
       "      <td>0</td>\n",
       "      <td>0</td>\n",
       "      <td>0</td>\n",
       "      <td>0</td>\n",
       "      <td>0</td>\n",
       "    </tr>\n",
       "    <tr>\n",
       "      <th>3</th>\n",
       "      <td>1349</td>\n",
       "      <td>2</td>\n",
       "      <td>2</td>\n",
       "      <td>1</td>\n",
       "      <td>0</td>\n",
       "      <td>0</td>\n",
       "      <td>0</td>\n",
       "      <td>0</td>\n",
       "      <td>0</td>\n",
       "      <td>0</td>\n",
       "      <td>...</td>\n",
       "      <td>0</td>\n",
       "      <td>0</td>\n",
       "      <td>0</td>\n",
       "      <td>0</td>\n",
       "      <td>0</td>\n",
       "      <td>0</td>\n",
       "      <td>0</td>\n",
       "      <td>0</td>\n",
       "      <td>0</td>\n",
       "      <td>0</td>\n",
       "    </tr>\n",
       "    <tr>\n",
       "      <th>4</th>\n",
       "      <td>10100</td>\n",
       "      <td>10</td>\n",
       "      <td>10</td>\n",
       "      <td>0</td>\n",
       "      <td>1</td>\n",
       "      <td>0</td>\n",
       "      <td>0</td>\n",
       "      <td>0</td>\n",
       "      <td>0</td>\n",
       "      <td>0</td>\n",
       "      <td>...</td>\n",
       "      <td>0</td>\n",
       "      <td>0</td>\n",
       "      <td>0</td>\n",
       "      <td>0</td>\n",
       "      <td>0</td>\n",
       "      <td>0</td>\n",
       "      <td>0</td>\n",
       "      <td>0</td>\n",
       "      <td>0</td>\n",
       "      <td>0</td>\n",
       "    </tr>\n",
       "  </tbody>\n",
       "</table>\n",
       "<p>5 rows × 52 columns</p>\n",
       "</div>"
      ],
      "text/plain": [
       "   total_sqft  bed  bath   Barnes   Battersea   Canary Wharf   Chiswick  \\\n",
       "0        1299    2     2        1           0              0          0   \n",
       "1        1796    3     3        1           0              0          0   \n",
       "2         736    1     1        1           0              0          0   \n",
       "3        1349    2     2        1           0              0          0   \n",
       "4       10100   10    10        0           1              0          0   \n",
       "\n",
       "    Earls Court   Fulham   Hampstead  ...  Primrose Hill  \\\n",
       "0             0        0           0  ...              0   \n",
       "1             0        0           0  ...              0   \n",
       "2             0        0           0  ...              0   \n",
       "3             0        0           0  ...              0   \n",
       "4             0        0           0  ...              0   \n",
       "\n",
       "   Prince of Wales Drive  Putney  Regent's Park  Shoreditch  South Hackney  \\\n",
       "0                      0       0              0           0              0   \n",
       "1                      0       0              0           0              0   \n",
       "2                      0       0              0           0              0   \n",
       "3                      0       0              0           0              0   \n",
       "4                      0       0              0           0              0   \n",
       "\n",
       "   St John's Wood  St. John's Wood  Wandsworth  Wimbledon  \n",
       "0               0                0           0          0  \n",
       "1               0                0           0          0  \n",
       "2               0                0           0          0  \n",
       "3               0                0           0          0  \n",
       "4               0                0           0          0  \n",
       "\n",
       "[5 rows x 52 columns]"
      ]
     },
     "execution_count": 128,
     "metadata": {},
     "output_type": "execute_result"
    }
   ],
   "source": [
    "X = df11.drop(['Price'],axis='columns')\n",
    "X.head()"
   ]
  },
  {
   "cell_type": "code",
   "execution_count": 130,
   "id": "69f0e3a7",
   "metadata": {},
   "outputs": [
    {
     "data": {
      "text/plain": [
       "0    1300000\n",
       "1    1700000\n",
       "2     700000\n",
       "3    1150000\n",
       "4    9975000\n",
       "Name: Price, dtype: int64"
      ]
     },
     "execution_count": 130,
     "metadata": {},
     "output_type": "execute_result"
    }
   ],
   "source": [
    "y = df11.Price\n",
    "y.head()"
   ]
  },
  {
   "cell_type": "code",
   "execution_count": 134,
   "id": "76828247",
   "metadata": {},
   "outputs": [],
   "source": [
    "from sklearn.model_selection import train_test_split\n",
    "X_train, X_test, y_train, y_test = train_test_split(X,y,test_size=0.2,random_state=30)"
   ]
  },
  {
   "cell_type": "code",
   "execution_count": 135,
   "id": "f77980ff",
   "metadata": {},
   "outputs": [
    {
     "data": {
      "text/plain": [
       "0.9040477436811375"
      ]
     },
     "execution_count": 135,
     "metadata": {},
     "output_type": "execute_result"
    }
   ],
   "source": [
    "from sklearn.linear_model import LinearRegression\n",
    "lr_clf = LinearRegression()\n",
    "lr_clf.fit(X_train,y_train)\n",
    "lr_clf.score(X_test,y_test)"
   ]
  },
  {
   "cell_type": "markdown",
   "id": "f747c1ce",
   "metadata": {},
   "source": [
    "## Using K Fold cross validation to measure accuracy of LinearRegression Model"
   ]
  },
  {
   "cell_type": "code",
   "execution_count": 136,
   "id": "0bd0493e",
   "metadata": {},
   "outputs": [
    {
     "data": {
      "text/plain": [
       "array([0.90404774, 0.93616426, 0.92097351, 0.9454671 , 0.9077344 ])"
      ]
     },
     "execution_count": 136,
     "metadata": {},
     "output_type": "execute_result"
    }
   ],
   "source": [
    "from sklearn.model_selection import ShuffleSplit\n",
    "from sklearn.model_selection import cross_val_score\n",
    "\n",
    "cv = ShuffleSplit(n_splits=5, test_size=0.2, random_state=30)\n",
    "\n",
    "cross_val_score(LinearRegression(), X, y, cv=cv)"
   ]
  },
  {
   "cell_type": "markdown",
   "id": "1121759d",
   "metadata": {},
   "source": [
    "## Finding Best Model Using GridSearchCV"
   ]
  },
  {
   "cell_type": "code",
   "execution_count": 138,
   "id": "87a84ab7",
   "metadata": {},
   "outputs": [
    {
     "data": {
      "text/html": [
       "<div>\n",
       "<style scoped>\n",
       "    .dataframe tbody tr th:only-of-type {\n",
       "        vertical-align: middle;\n",
       "    }\n",
       "\n",
       "    .dataframe tbody tr th {\n",
       "        vertical-align: top;\n",
       "    }\n",
       "\n",
       "    .dataframe thead th {\n",
       "        text-align: right;\n",
       "    }\n",
       "</style>\n",
       "<table border=\"1\" class=\"dataframe\">\n",
       "  <thead>\n",
       "    <tr style=\"text-align: right;\">\n",
       "      <th></th>\n",
       "      <th>model</th>\n",
       "      <th>best_score</th>\n",
       "      <th>best_params</th>\n",
       "    </tr>\n",
       "  </thead>\n",
       "  <tbody>\n",
       "    <tr>\n",
       "      <th>0</th>\n",
       "      <td>linear_regression</td>\n",
       "      <td>0.922877</td>\n",
       "      <td>{'normalize': False}</td>\n",
       "    </tr>\n",
       "    <tr>\n",
       "      <th>1</th>\n",
       "      <td>lasso</td>\n",
       "      <td>0.922878</td>\n",
       "      <td>{'alpha': 2, 'selection': 'random'}</td>\n",
       "    </tr>\n",
       "    <tr>\n",
       "      <th>2</th>\n",
       "      <td>decision_tree</td>\n",
       "      <td>0.857069</td>\n",
       "      <td>{'criterion': 'mse', 'splitter': 'best'}</td>\n",
       "    </tr>\n",
       "  </tbody>\n",
       "</table>\n",
       "</div>"
      ],
      "text/plain": [
       "               model  best_score                               best_params\n",
       "0  linear_regression    0.922877                      {'normalize': False}\n",
       "1              lasso    0.922878       {'alpha': 2, 'selection': 'random'}\n",
       "2      decision_tree    0.857069  {'criterion': 'mse', 'splitter': 'best'}"
      ]
     },
     "execution_count": 138,
     "metadata": {},
     "output_type": "execute_result"
    }
   ],
   "source": [
    "from sklearn.model_selection import GridSearchCV\n",
    "\n",
    "from sklearn.linear_model import Lasso\n",
    "from sklearn.tree import DecisionTreeRegressor\n",
    "\n",
    "def find_best_model_using_gridsearchcv(X,y):\n",
    "    algos = {\n",
    "        'linear_regression' : {\n",
    "            'model': LinearRegression(),\n",
    "            'params': {\n",
    "                'normalize': [True, False]\n",
    "            }\n",
    "        },\n",
    "        'lasso': {\n",
    "            'model': Lasso(),\n",
    "            'params': {\n",
    "                'alpha': [1,2],\n",
    "                'selection': ['random', 'cyclic']\n",
    "            }\n",
    "        },\n",
    "        'decision_tree': {\n",
    "            'model': DecisionTreeRegressor(),\n",
    "            'params': {\n",
    "                'criterion' : ['mse','friedman_mse'],\n",
    "                'splitter': ['best','random']\n",
    "            }\n",
    "        }\n",
    "    }\n",
    "    scores = []\n",
    "    cv = ShuffleSplit(n_splits=5, test_size=0.2, random_state=30)\n",
    "    for algo_name, config in algos.items():\n",
    "        gs =  GridSearchCV(config['model'], config['params'], cv=cv, return_train_score=False)\n",
    "        gs.fit(X,y)\n",
    "        scores.append({\n",
    "            'model': algo_name,\n",
    "            'best_score': gs.best_score_,\n",
    "            'best_params': gs.best_params_\n",
    "        })\n",
    "\n",
    "    return pd.DataFrame(scores,columns=['model','best_score','best_params'])\n",
    "\n",
    "find_best_model_using_gridsearchcv(X,y)"
   ]
  },
  {
   "cell_type": "markdown",
   "id": "304982cc",
   "metadata": {},
   "source": [
    "## Test the Model"
   ]
  },
  {
   "cell_type": "code",
   "execution_count": 141,
   "id": "d7e940fa",
   "metadata": {},
   "outputs": [],
   "source": [
    "def predict_price(Location,sqft,bath,bed):    \n",
    "    loc_index = np.where(X.columns==Location)[0][0]\n",
    "\n",
    "    x = np.zeros(len(X.columns))\n",
    "    x[0] = sqft\n",
    "    x[1] = bath\n",
    "    x[2] = bed\n",
    "    if loc_index >= 0:\n",
    "        x[loc_index] = 1\n",
    "\n",
    "    return lr_clf.predict([x])[0]"
   ]
  },
  {
   "cell_type": "code",
   "execution_count": 142,
   "id": "a72707c2",
   "metadata": {},
   "outputs": [
    {
     "data": {
      "text/plain": [
       "629447.2420681552"
      ]
     },
     "execution_count": 142,
     "metadata": {},
     "output_type": "execute_result"
    }
   ],
   "source": [
    "predict_price('Putney',1000, 2, 2)"
   ]
  },
  {
   "cell_type": "code",
   "execution_count": 170,
   "id": "a84dc1bc",
   "metadata": {},
   "outputs": [
    {
     "data": {
      "text/plain": [
       "303651.2420681552"
      ]
     },
     "execution_count": 170,
     "metadata": {},
     "output_type": "execute_result"
    }
   ],
   "source": [
    "predict_price('Ealing',1000, 2, 2)"
   ]
  },
  {
   "cell_type": "code",
   "execution_count": 178,
   "id": "40085bfa",
   "metadata": {},
   "outputs": [
    {
     "data": {
      "text/plain": [
       "1297711.2420681552"
      ]
     },
     "execution_count": 178,
     "metadata": {},
     "output_type": "execute_result"
    }
   ],
   "source": [
    "predict_price('Wimbledon',1500,2,2)"
   ]
  },
  {
   "cell_type": "markdown",
   "id": "33e5ff9f",
   "metadata": {},
   "source": [
    "## Tested Model to Pickle File"
   ]
  },
  {
   "cell_type": "code",
   "execution_count": 187,
   "id": "9bfc68e8",
   "metadata": {},
   "outputs": [],
   "source": [
    "import pickle\n",
    "with open('banglore_home_prices_model.pickle','wb') as f:\n",
    "    pickle.dump(lr_clf,f)"
   ]
  },
  {
   "cell_type": "code",
   "execution_count": 191,
   "id": "d5318d1e",
   "metadata": {},
   "outputs": [],
   "source": [
    "import json\n",
    "columns = {\n",
    "    'data_columns' : [col.lower() for col in X.columns]\n",
    "}\n",
    "with open(\"columns.json\",\"w\") as f:\n",
    "    f.write(json.dumps(columns))"
   ]
  },
  {
   "cell_type": "code",
   "execution_count": 192,
   "id": "efafcfbf",
   "metadata": {},
   "outputs": [
    {
     "name": "stdout",
     "output_type": "stream",
     "text": [
      " Volume in drive C has no label.\n",
      " Volume Serial Number is 144D-2F58\n",
      "\n",
      " Directory of C:\\Users\\15103\\Personal Projects\\Housing Price Prediction\n",
      "\n",
      "01/28/2022  11:09 PM    <DIR>          .\n",
      "01/28/2022  11:09 PM    <DIR>          ..\n",
      "01/28/2022  04:43 PM    <DIR>          .ipynb_checkpoints\n",
      "01/28/2022  10:46 PM             1,286 banglore_home_prices_model.pickle\n",
      "01/28/2022  11:12 PM               751 columns.json\n",
      "01/28/2022  04:06 PM           445,530 Housing Price.ipynb\n",
      "01/28/2022  11:09 PM           158,348 London Housing Price Prediction.ipynb\n",
      "01/28/2022  10:45 PM             1,286 london_home_prices_model.pickle\n",
      "               5 File(s)        607,201 bytes\n",
      "               3 Dir(s)  577,739,476,992 bytes free\n"
     ]
    }
   ],
   "source": [
    "ls"
   ]
  },
  {
   "cell_type": "code",
   "execution_count": null,
   "id": "3d7ab5c4",
   "metadata": {},
   "outputs": [],
   "source": []
  },
  {
   "cell_type": "code",
   "execution_count": null,
   "id": "4130d5c0",
   "metadata": {},
   "outputs": [],
   "source": []
  }
 ],
 "metadata": {
  "kernelspec": {
   "display_name": "Python 3 (ipykernel)",
   "language": "python",
   "name": "python3"
  },
  "language_info": {
   "codemirror_mode": {
    "name": "ipython",
    "version": 3
   },
   "file_extension": ".py",
   "mimetype": "text/x-python",
   "name": "python",
   "nbconvert_exporter": "python",
   "pygments_lexer": "ipython3",
   "version": "3.9.7"
  }
 },
 "nbformat": 4,
 "nbformat_minor": 5
}
